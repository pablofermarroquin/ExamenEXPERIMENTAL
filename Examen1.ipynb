{
  "nbformat": 4,
  "nbformat_minor": 0,
  "metadata": {
    "colab": {
      "name": "Examen1.ipynb",
      "provenance": [],
      "collapsed_sections": []
    },
    "kernelspec": {
      "name": "python3",
      "display_name": "Python 3"
    },
    "language_info": {
      "name": "python"
    }
  },
  "cells": [
    {
      "cell_type": "code",
      "metadata": {
        "colab": {
          "base_uri": "https://localhost:8080/",
          "height": 329
        },
        "id": "JuuZIPOR8acg",
        "outputId": "c9446317-061b-44a2-8bff-00f6c5ab0574"
      },
      "source": [
        "#CASO   vo>w\n",
        "\n",
        "import numpy as np\n",
        "import matplotlib.pyplot as plt \n",
        "\n",
        "#Suponiendo a=1  \n",
        "w=1\n",
        "vo=10\n",
        "k=vo/w\n",
        "\n",
        "a=1\n",
        "vyi=10\n",
        "vxi=1\n",
        "xi=a\n",
        "yi=0\n",
        "h=0.01\n",
        "\n",
        "x=[]\n",
        "y=[]\n",
        "vx=[]\n",
        "vy=[]\n",
        "\n",
        "x.append(xi)\n",
        "y.append(yi)\n",
        "vx.append(vxi)\n",
        "vy.append(vyi)\n",
        "\n",
        "posx=xi\n",
        "posy=yi\n",
        "vel_x=vxi\n",
        "vel_y=vyi\n",
        "i=0\n",
        "\n",
        "while i<10000:\n",
        "\n",
        "  Vx_anterior=vx[i-1]\n",
        "  Vy_anterior=vy[i-1]\n",
        "  vel_x=vel_x-h*k*np.sqrt(1+(Vx_anterior)**2)\n",
        "  vel_y=vel_y-h*k*np.sqrt(1+(Vy_anterior)**2)\n",
        "  posx+=h*vel_x\n",
        "  posy+=h*vel_y\n",
        "  i+=1\n",
        "  x.append(posx)\n",
        "  y.append(posy)\n",
        "  vx.append(vel_x)\n",
        "  vy.append(vel_y)\n",
        "  \n",
        "plt.xlim(-1.5*max(x),1.5*max(x))\n",
        "plt.ylim(-1.5*max(y),1.5*max(y))\n",
        "plt.plot(x,y)\n",
        "plt.xlabel(\"x (m)\")\n",
        "plt.ylabel(\"y (m)\")\n",
        "plt.title(\"Trayectoria\")\n",
        "plt.show()"
      ],
      "execution_count": 24,
      "outputs": [
        {
          "output_type": "stream",
          "text": [
            "/usr/local/lib/python3.7/dist-packages/ipykernel_launcher.py:38: RuntimeWarning: overflow encountered in double_scalars\n",
            "/usr/local/lib/python3.7/dist-packages/ipykernel_launcher.py:39: RuntimeWarning: overflow encountered in double_scalars\n"
          ],
          "name": "stderr"
        },
        {
          "output_type": "display_data",
          "data": {
            "image/png": "[encoded data removed]",
            "text/plain": [
              "<Figure size 432x288 with 1 Axes>"
            ]
          },
          "metadata": {
            "tags": [],
            "needs_background": "light"
          }
        }
      ]
    },
    {
      "cell_type": "code",
      "metadata": {
        "colab": {
          "base_uri": "https://localhost:8080/",
          "height": 295
        },
        "id": "MHZS10vbAcTt",
        "outputId": "d012825b-b3d3-4509-e21a-9b39c24384b5"
      },
      "source": [
        "#CASO   vo=w\n",
        "\n",
        "import numpy as np\n",
        "import matplotlib.pyplot as plt \n",
        "\n",
        "#Suponiendo a=1  \n",
        "w=1\n",
        "vo=1\n",
        "k=vo/w\n",
        "\n",
        "a=1\n",
        "vyi=10\n",
        "vxi=1\n",
        "xi=a\n",
        "yi=0\n",
        "h=0.01\n",
        "\n",
        "x=[]\n",
        "y=[]\n",
        "vx=[]\n",
        "vy=[]\n",
        "\n",
        "x.append(xi)\n",
        "y.append(yi)\n",
        "vx.append(vxi)\n",
        "vy.append(vyi)\n",
        "\n",
        "posx=xi\n",
        "posy=yi\n",
        "vel_x=vxi\n",
        "vel_y=vyi\n",
        "i=0\n",
        "\n",
        "while i<10000:\n",
        "\n",
        "  Vx_anterior=vx[i-1]\n",
        "  Vy_anterior=vy[i-1]\n",
        "  vel_x=vel_x-h*k*np.sqrt(1+(Vx_anterior)**2)\n",
        "  vel_y=vel_y-h*k*np.sqrt(1+(Vy_anterior)**2)\n",
        "  posx+=h*vel_x\n",
        "  posy+=h*vel_y\n",
        "  i+=1\n",
        "  x.append(posx)\n",
        "  y.append(posy)\n",
        "  vx.append(vel_x)\n",
        "  vy.append(vel_y)\n",
        "  \n",
        "plt.xlim(-1.5*max(x),1.5*max(x))\n",
        "plt.ylim(-1.5*max(y),1.5*max(y))\n",
        "plt.plot(x,y)\n",
        "plt.xlabel(\"x (m)\")\n",
        "plt.ylabel(\"y (m)\")\n",
        "plt.title(\"Trayectoria\")\n",
        "plt.show()"
      ],
      "execution_count": 25,
      "outputs": [
        {
          "output_type": "display_data",
          "data": {
            "image/png": "[encoded data removed]",
            "text/plain": [
              "<Figure size 432x288 with 1 Axes>"
            ]
          },
          "metadata": {
            "tags": [],
            "needs_background": "light"
          }
        }
      ]
    },
    {
      "cell_type": "code",
      "metadata": {
        "colab": {
          "base_uri": "https://localhost:8080/",
          "height": 295
        },
        "id": "qVLo7uaDAi_n",
        "outputId": "caa0295c-5130-4a6e-ddb8-99fa30380485"
      },
      "source": [
        "#CASO   vo>w\n",
        "\n",
        "import numpy as np\n",
        "import matplotlib.pyplot as plt \n",
        "\n",
        "#Suponiendo a=1  \n",
        "w=10\n",
        "vo=1\n",
        "k=vo/w\n",
        "\n",
        "a=1\n",
        "vyi=10\n",
        "vxi=1\n",
        "xi=a\n",
        "yi=0\n",
        "h=0.01\n",
        "\n",
        "x=[]\n",
        "y=[]\n",
        "vx=[]\n",
        "vy=[]\n",
        "\n",
        "x.append(xi)\n",
        "y.append(yi)\n",
        "vx.append(vxi)\n",
        "vy.append(vyi)\n",
        "\n",
        "posx=xi\n",
        "posy=yi\n",
        "vel_x=vxi\n",
        "vel_y=vyi\n",
        "i=0\n",
        "\n",
        "while i<10000:\n",
        "\n",
        "  Vx_anterior=vx[i-1]\n",
        "  Vy_anterior=vy[i-1]\n",
        "  vel_x=vel_x-h*k*np.sqrt(1+(Vx_anterior)**2)\n",
        "  vel_y=vel_y-h*k*np.sqrt(1+(Vy_anterior)**2)\n",
        "  posx+=h*vel_x\n",
        "  posy+=h*vel_y\n",
        "  i+=1\n",
        "  x.append(posx)\n",
        "  y.append(posy)\n",
        "  vx.append(vel_x)\n",
        "  vy.append(vel_y)\n",
        "  \n",
        "plt.xlim(-1.5*max(x),1.5*max(x))\n",
        "plt.ylim(-1.5*max(y),1.5*max(y))\n",
        "plt.plot(x,y)\n",
        "plt.xlabel(\"x (m)\")\n",
        "plt.ylabel(\"y (m)\")\n",
        "plt.title(\"Trayectoria\")\n",
        "plt.show()"
      ],
      "execution_count": 26,
      "outputs": [
        {
          "output_type": "display_data",
          "data": {
            "image/png": "[encoded data removed]",
            "text/plain": [
              "<Figure size 432x288 with 1 Axes>"
            ]
          },
          "metadata": {
            "tags": [],
            "needs_background": "light"
          }
        }
      ]
    }
  ]
}